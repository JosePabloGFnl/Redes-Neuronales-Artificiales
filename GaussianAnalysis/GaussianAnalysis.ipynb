{
  "nbformat": 4,
  "nbformat_minor": 0,
  "metadata": {
    "colab": {
      "name": "GaussianAnalysis.ipynb",
      "provenance": [],
      "authorship_tag": "ABX9TyOr5YrJ6f3kfTGhOdjUIyLz",
      "include_colab_link": true
    },
    "kernelspec": {
      "name": "python3",
      "display_name": "Python 3"
    },
    "language_info": {
      "name": "python"
    }
  },
  "cells": [
    {
      "cell_type": "markdown",
      "metadata": {
        "id": "view-in-github",
        "colab_type": "text"
      },
      "source": [
        "<a href=\"https://colab.research.google.com/github/JosePabloGFnl/Redes-Neuronales-Artificiales/blob/main/GaussianAnalysis/GaussianAnalysis.ipynb\" target=\"_parent\"><img src=\"https://colab.research.google.com/assets/colab-badge.svg\" alt=\"Open In Colab\"/></a>"
      ]
    },
    {
      "cell_type": "code",
      "execution_count": 1,
      "metadata": {
        "id": "OYbw6-1V7XM1",
        "outputId": "2d071ec3-c121-4237-a1f7-47b2e7145b17",
        "colab": {
          "base_uri": "https://localhost:8080/",
          "height": 369
        }
      },
      "outputs": [
        {
          "output_type": "stream",
          "name": "stdout",
          "text": [
            "KstestResult(statistic=0.9999999999987201, pvalue=0.0)\n",
            "KstestResult(statistic=1.0, pvalue=0.0)\n",
            "KstestResult(statistic=1.0, pvalue=0.0)\n",
            "KstestResult(statistic=1.0, pvalue=0.0)\n",
            "KstestResult(statistic=1.0, pvalue=0.0)\n",
            "KstestResult(statistic=1.0, pvalue=0.0)\n"
          ]
        },
        {
          "output_type": "display_data",
          "data": {
            "image/png": "[encoded data removed]",
            "text/plain": [
              "<Figure size 432x288 with 6 Axes>"
            ]
          },
          "metadata": {
            "needs_background": "light"
          }
        }
      ],
      "source": [
        "#este programa carga un conjunto de nuestros datos en formato csv, las estandariza, les aplica una prueba\n",
        "#Kolmogorov-Smirnov y despliega visualmente los histogramas correspondientes\n",
        "\n",
        "import numpy as np\n",
        "import matplotlib.pyplot as plt\n",
        "from scipy import stats\n",
        "\n",
        "filename=np.array(['Sample_33_data.txt', 'Sample_34_data.txt', 'Sample_35_data.txt', 'Sample_33_data_down.txt', 'Sample_34_data_down.txt', 'Sample_35_data_down.txt'])\n",
        "\n",
        "ydata =np.empty([1025, 6])\n",
        "i = 1\n",
        "for f in filename:\n",
        "  x, y = np.loadtxt(fname = f, usecols=(0,1), unpack=True)\n",
        "  yn = np.mean(y)\n",
        "  ys = np.std(y) #estandarización\n",
        "  ks = stats.kstest(y, 'norm') #k-s test \n",
        "  print(ks)\n",
        "\n",
        "  ax = plt.subplot(2, 3, i)\n",
        "  i = i + 1\n",
        "  ax.hist(y, bins = 100)\n",
        "plt.show()\n",
        "\n",
        "#los primeros tres son gauseanos, los últimos no"
      ]
    }
  ]
}