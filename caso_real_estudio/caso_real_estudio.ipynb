{
  "nbformat": 4,
  "nbformat_minor": 0,
  "metadata": {
    "colab": {
      "name": "caso_real_estudio.ipynb",
      "provenance": [],
      "authorship_tag": "ABX9TyOPmWZ0RHmU4Hgs46sb1LXM",
      "include_colab_link": true
    },
    "kernelspec": {
      "name": "python3",
      "display_name": "Python 3"
    },
    "language_info": {
      "name": "python"
    }
  },
  "cells": [
    {
      "cell_type": "markdown",
      "metadata": {
        "id": "view-in-github",
        "colab_type": "text"
      },
      "source": [
        "<a href=\"https://colab.research.google.com/github/JosePabloGFnl/Redes-Neuronales-Artificiales/blob/main/caso_real_estudio/caso_real_estudio.ipynb\" target=\"_parent\"><img src=\"https://colab.research.google.com/assets/colab-badge.svg\" alt=\"Open In Colab\"/></a>"
      ]
    },
    {
      "cell_type": "code",
      "execution_count": null,
      "metadata": {
        "id": "yw1b4SUkLOpJ"
      },
      "outputs": [],
      "source": [
        "\n",
        "import pandas\n",
        "import numpy as np\n",
        "import copy\n",
        "import matplotlib.pyplot as plt\n",
        "from random import random\n",
        "\n",
        "###Reading and plotting data###\n",
        "longidata=np.array(['Variables_modificadas.csv'])\n",
        "dlongi = pandas.read_csv(longidata[0])\n",
        "dlongi.head()\n",
        "#print(dlongi.loc[0])\n",
        "d0 = dlongi.values\n",
        "\n",
        "\n",
        "y = d0[:, 0]\n",
        "x = d0[:, 1:11]\n",
        "#print(x[:, 1])\n",
        "\n",
        "'''\n",
        "fig, axs = plt.subplots(5)\n",
        "axs[0].plot(y)\n",
        "axs[1].plot(x[:, 0])\n",
        "axs[2].plot(x[:, 1])\n",
        "axs[3].plot(x[:, 2])\n",
        "axs[4].plot(x[:, 3])\n",
        "'''\n",
        "\n",
        "#plt.show()\n",
        "\n",
        "### Prediction model ###\n",
        "\n",
        "from sklearn import datasets\n",
        "from sklearn.model_selection import train_test_split\n",
        "from sklearn.preprocessing import LabelBinarizer\n",
        "from sklearn.neural_network import MLPRegressor\n",
        "from sklearn.linear_model import LinearRegression\n",
        "from sklearn.metrics import accuracy_score\n",
        "import numpy as np\n",
        "import time\n",
        "import pickle\n",
        "#Generate a partition in training and test data\n",
        "validation_size = 0.20\n",
        "seed = 7\n",
        "x_train, x_test, y_train, y_test = train_test_split(x, y,\n",
        "    test_size=validation_size, random_state=seed)\n",
        "\n",
        "clf = MLPRegressor(solver='adam', alpha=1e-5, tol=1e-50, max_iter=3000, activation='logistic',\n",
        "                    hidden_layer_sizes=(100,), verbose=False, random_state=1)\n",
        "#clf = LinearRegression()                   \n",
        "clf.fit(x_train, y_train)\n",
        "\n",
        "#Make predictions and report percentual prediction score\n",
        "from sklearn.metrics import mean_squared_error\n",
        "#print(clf.score(x_test, y_test)*100)\n",
        "y_pred = clf.predict(x_test)\n",
        "print(mean_squared_error(y_pred, y_test, squared=False))"
      ]
    }
  ]
}