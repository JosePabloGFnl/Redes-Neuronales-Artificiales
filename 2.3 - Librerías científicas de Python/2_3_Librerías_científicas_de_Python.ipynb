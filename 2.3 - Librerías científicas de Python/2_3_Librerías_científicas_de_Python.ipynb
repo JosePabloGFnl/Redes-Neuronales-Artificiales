{
  "nbformat": 4,
  "nbformat_minor": 0,
  "metadata": {
    "colab": {
      "name": "2.3 - Librerías científicas de Python.ipynb",
      "provenance": [],
      "authorship_tag": "ABX9TyP3IdpsyuurPWm8YWmVWDMw",
      "include_colab_link": true
    },
    "kernelspec": {
      "name": "python3",
      "display_name": "Python 3"
    },
    "language_info": {
      "name": "python"
    }
  },
  "cells": [
    {
      "cell_type": "markdown",
      "metadata": {
        "id": "view-in-github",
        "colab_type": "text"
      },
      "source": [
        "<a href=\"https://colab.research.google.com/github/JosePabloGFnl/Redes-Neuronales-Artificiales/blob/main/2.3%20-%20Librer%C3%ADas%20cient%C3%ADficas%20de%20Python/2_3_Librer%C3%ADas_cient%C3%ADficas_de_Python.ipynb\" target=\"_parent\"><img src=\"https://colab.research.google.com/assets/colab-badge.svg\" alt=\"Open In Colab\"/></a>"
      ]
    },
    {
      "cell_type": "code",
      "execution_count": 5,
      "metadata": {
        "colab": {
          "base_uri": "https://localhost:8080/",
          "height": 295
        },
        "id": "4abH46Iklboi",
        "outputId": "80f03ad2-5540-4c4e-9c19-fbfea5ae9f42"
      },
      "outputs": [
        {
          "output_type": "display_data",
          "data": {
            "image/png": "[encoded data removed]",
            "text/plain": [
              "<Figure size 432x288 with 1 Axes>"
            ]
          },
          "metadata": {
            "needs_background": "light"
          }
        }
      ],
      "source": [
        "#1) Generar una secuencia de 100 valores aleatorios uniformes entre 0 y 1 y desplegar su histograma.\n",
        "import random\n",
        "import matplotlib.pyplot as plt\n",
        "\n",
        "array = []\n",
        "for i in range(100):\n",
        "  array.append((random.uniform(0, 1))) #la función uniform es perfecta para este procedimiento, devuelve valores aleatorios entre la syntaxis a y b\n",
        "\n",
        "n, bins, patches=plt.hist(array)\n",
        "plt.xlabel(\"Valores\")\n",
        "plt.ylabel(\"Frecuencia\")\n",
        "plt.title(\"Histograma\")\n",
        "plt.show()"
      ]
    },
    {
      "cell_type": "code",
      "source": [
        "from traitlets.traitlets import List\n",
        "#2a) Generar dos secuencias de 3 valores aleatorios binarios y guardar cada secuencia en una lista. \n",
        "\n",
        "import random\n",
        "import matplotlib.pyplot as plt\n",
        "\n",
        "list2a = []\n",
        "list2a2 = []\n",
        "for i in range(1):\n",
        "  list2a.append((random.choices([0,1], k=3)))\n",
        "  list2a2.append((random.choices([0,1], k=3)))\n",
        "#esta función es para convertirlos en arreglos, ya que se usaron como matrices. Será útil para el ejercicio 3\n",
        "list2a = np.squeeze(np.asarray(list2a))\n",
        "\n",
        "list2a2 = np.squeeze(np.asarray(list2a2))\n",
        "\n",
        "#2b) Generar dos secuencias de 100 valores aleatorios binarios y guardar cada secuencia en una lista.\n",
        "\n",
        "list2b = []\n",
        "list2b2 = []\n",
        "for i in range(1):\n",
        "  list2b.append((random.choices([0,1], k=100)))\n",
        "  list2b2.append((random.choices([0,1], k=100)))\n",
        "\n",
        "list2b = np.squeeze(np.asarray(list2b))\n",
        "\n",
        "list2b2 = np.squeeze(np.asarray(list2b2))\n",
        "\n",
        "#2c) Generar dos secuencias de 1000 valores aleatorios binarios y guardar cada secuencia en una lista.\n",
        "\n",
        "list2c = []\n",
        "list2c2 = []\n",
        "for i in range(1):\n",
        "  list2c.append((random.choices([0,1], k=1000)))\n",
        "  list2c2.append((random.choices([0,1], k=1000)))\n",
        "\n",
        "list2c = np.squeeze(np.asarray(list2c))\n",
        "\n",
        "list2c2 = np.squeeze(np.asarray(list2c2))\n",
        "\n",
        "print(\"2a: \\n\")\n",
        "print(list2a)\n",
        "print(list2a2)\n",
        "\n",
        "print(\"2b: \\n\")\n",
        "print(list2b)\n",
        "print(list2b2)\n",
        "\n",
        "print(\"2c: \\n\")\n",
        "print(list2c)\n",
        "print(list2c2)"
      ],
      "metadata": {
        "colab": {
          "base_uri": "https://localhost:8080/"
        },
        "id": "DC-jjsjEpA8z",
        "outputId": "4c680c73-61b8-491a-d5b5-592c527c33f0"
      },
      "execution_count": 46,
      "outputs": [
        {
          "output_type": "stream",
          "name": "stdout",
          "text": [
            "2a: \n",
            "\n",
            "[1 0 1]\n",
            "[0 0 0]\n",
            "2b: \n",
            "\n",
            "[1 0 0 1 1 1 0 0 0 0 0 0 1 0 1 0 1 1 0 0 1 0 1 0 0 0 1 1 1 0 1 1 1 1 0 1 1\n",
            " 1 0 0 1 1 1 0 0 1 0 0 0 1 0 0 1 0 0 0 1 0 0 0 1 0 0 1 0 1 1 1 0 1 1 1 0 1\n",
            " 0 1 0 1 1 0 0 0 0 0 1 1 1 1 0 1 1 0 1 1 0 1 0 1 0 1]\n",
            "[0 1 1 1 0 1 0 0 1 1 0 0 1 1 0 0 1 1 0 0 0 0 0 1 1 0 0 0 1 0 0 0 1 1 1 0 1\n",
            " 0 1 1 0 0 0 1 0 1 1 0 1 1 1 0 0 0 0 1 1 0 1 0 1 0 0 1 1 1 0 0 0 0 0 0 1 1\n",
            " 0 1 1 1 0 1 1 0 0 0 0 0 1 0 0 1 1 0 1 1 0 1 1 1 0 1]\n",
            "2c: \n",
            "\n",
            "[0 0 0 1 1 0 1 0 0 0 0 0 0 1 1 0 0 0 0 1 0 1 1 1 0 1 1 1 1 1 0 0 0 0 0 0 1\n",
            " 1 1 1 0 0 1 1 1 0 1 0 1 0 1 1 1 1 0 0 0 0 0 1 1 1 0 0 0 1 0 0 1 1 0 0 0 1\n",
            " 0 0 1 1 0 1 1 1 1 1 0 0 1 0 1 0 1 0 1 0 0 1 0 0 0 0 0 0 0 0 0 0 0 0 0 1 0\n",
            " 0 0 0 1 1 1 0 1 1 1 0 1 1 0 0 0 0 0 0 1 1 0 1 1 0 1 1 1 1 1 0 0 1 0 1 1 1\n",
            " 0 1 1 1 1 1 0 1 1 0 0 1 1 1 0 0 0 0 0 1 1 0 1 1 0 0 0 1 0 1 1 1 1 1 0 0 1\n",
            " 0 1 0 0 1 0 1 1 1 1 1 1 0 0 0 0 0 1 1 0 1 1 1 0 1 0 1 0 0 0 0 0 0 1 1 0 0\n",
            " 0 0 1 1 1 1 1 1 1 0 0 0 0 0 0 0 1 0 1 1 1 1 0 0 0 0 0 0 1 0 0 1 1 0 0 1 0\n",
            " 0 0 0 1 0 0 0 1 0 0 1 1 1 0 1 0 1 0 1 1 1 1 1 0 1 1 1 0 0 0 1 1 0 0 0 1 0\n",
            " 1 0 1 0 0 0 0 0 0 0 1 1 0 0 1 1 1 1 1 1 1 0 0 0 1 1 1 1 1 0 0 1 0 1 0 1 0\n",
            " 0 1 0 1 0 0 0 0 0 1 1 1 1 0 0 0 0 0 0 0 0 1 0 1 1 1 1 1 0 1 1 0 1 0 0 0 1\n",
            " 0 1 1 0 1 0 1 0 1 0 0 0 0 1 0 1 0 0 1 1 0 0 1 1 1 1 0 1 1 1 0 1 0 1 1 0 1\n",
            " 1 1 0 0 0 1 0 1 0 1 0 1 1 1 0 0 1 1 1 1 0 1 1 0 1 0 0 1 1 0 1 1 1 1 0 0 0\n",
            " 1 0 0 1 0 1 1 0 0 1 0 0 0 1 1 0 1 1 0 0 1 0 0 1 0 0 0 0 0 0 0 0 1 1 0 0 1\n",
            " 1 0 1 0 0 1 0 1 0 0 0 1 1 1 1 0 0 1 1 0 1 1 1 0 0 0 1 1 1 0 1 1 1 0 0 1 1\n",
            " 1 0 0 1 1 0 0 1 0 0 1 0 1 1 0 0 0 1 0 1 0 0 1 1 0 0 1 1 1 0 0 1 1 1 1 0 1\n",
            " 0 0 1 1 1 0 0 1 0 1 1 1 1 0 1 0 0 1 1 1 1 1 0 0 0 0 0 1 1 0 1 1 1 1 1 0 1\n",
            " 0 1 0 0 1 0 0 0 1 0 0 1 1 0 1 0 0 0 1 0 0 0 0 0 1 0 1 1 0 1 1 0 1 0 0 0 0\n",
            " 1 1 0 1 1 1 0 0 1 1 0 1 0 0 1 0 1 1 1 0 1 0 1 0 0 1 1 0 0 0 0 0 0 0 0 0 1\n",
            " 1 1 0 1 1 1 1 1 1 1 0 1 1 1 0 0 0 1 1 0 1 0 1 0 1 1 1 1 1 1 1 1 1 0 0 1 0\n",
            " 1 0 1 1 0 1 1 1 0 1 0 0 0 1 0 0 0 1 1 1 0 0 1 1 1 0 0 0 1 0 1 1 1 1 1 0 0\n",
            " 0 1 1 0 1 1 1 0 1 1 0 0 0 0 1 0 1 1 0 1 1 0 1 1 1 0 1 0 0 1 0 0 1 0 0 1 1\n",
            " 1 1 1 0 0 0 0 0 0 0 0 1 1 1 0 0 0 1 0 1 1 0 1 1 1 0 0 0 1 0 1 1 1 1 1 1 1\n",
            " 0 1 1 1 0 0 0 1 1 1 1 1 0 1 1 1 0 0 0 0 0 1 0 1 1 1 0 1 1 0 0 0 0 1 1 0 1\n",
            " 1 1 1 1 1 1 1 1 1 0 1 1 1 1 0 0 0 0 0 0 0 1 0 0 0 1 1 0 1 0 1 1 1 0 0 1 0\n",
            " 1 1 1 1 1 0 1 0 0 1 0 0 1 1 1 1 0 1 0 0 1 0 0 0 1 0 0 1 1 1 1 1 1 1 0 1 0\n",
            " 0 0 0 0 1 0 0 0 0 1 0 0 0 0 1 1 1 1 1 1 0 0 1 0 0 1 0 1 1 1 0 0 1 1 0 0 1\n",
            " 1 1 1 0 1 0 0 0 1 0 1 0 1 0 0 1 1 0 0 1 0 1 1 0 1 1 0 1 0 1 1 1 0 0 1 1 1\n",
            " 1]\n",
            "[0 1 0 1 1 0 1 0 1 1 1 0 0 1 1 0 0 0 1 0 0 1 1 1 0 0 0 1 1 0 1 1 0 1 1 1 0\n",
            " 1 0 0 0 1 1 1 1 0 1 0 1 0 0 1 0 1 0 1 1 0 1 0 1 0 1 0 1 1 1 1 1 0 1 0 0 1\n",
            " 1 1 1 1 1 0 1 0 1 0 1 1 1 0 0 1 0 0 0 1 1 1 1 1 1 1 1 1 0 0 0 0 1 0 0 0 0\n",
            " 0 0 1 1 0 0 0 0 0 0 0 0 0 1 0 0 0 0 1 1 1 0 1 1 0 1 0 0 1 1 0 0 0 0 0 1 0\n",
            " 0 0 0 0 0 1 1 0 0 0 0 0 1 0 1 0 0 0 1 1 0 1 1 0 0 0 0 1 0 0 1 0 1 1 0 1 0\n",
            " 1 1 1 0 0 0 0 1 1 0 0 0 0 1 0 0 0 1 0 1 1 1 0 1 0 1 1 1 1 1 0 1 0 1 1 0 1\n",
            " 1 1 0 0 0 1 1 0 0 1 1 1 0 0 0 1 1 0 0 1 0 0 1 0 0 0 1 0 1 0 1 0 1 0 1 0 1\n",
            " 0 0 0 1 0 0 1 0 0 1 0 1 1 1 0 1 0 1 1 1 0 0 1 0 1 1 0 0 1 1 0 0 0 1 0 1 0\n",
            " 1 1 0 1 1 1 0 0 1 1 0 1 0 0 1 0 1 0 0 0 1 1 1 0 0 0 1 0 0 0 0 0 1 1 1 1 0\n",
            " 1 1 1 1 0 0 1 1 1 1 0 1 1 0 1 0 1 1 1 0 1 0 1 1 1 1 1 1 0 0 1 1 0 0 0 0 1\n",
            " 1 1 0 1 1 0 0 0 0 0 1 1 0 0 0 1 0 1 0 0 1 0 0 0 1 1 1 0 0 1 0 1 0 1 1 0 1\n",
            " 0 0 1 1 1 1 1 0 0 0 1 1 0 0 1 1 1 1 0 1 0 1 0 1 1 1 0 0 0 1 0 1 0 0 1 1 0\n",
            " 1 0 0 1 0 0 0 1 1 0 1 1 1 0 1 0 1 0 0 1 0 0 0 1 0 0 1 0 0 1 1 1 1 1 0 1 0\n",
            " 0 1 0 0 1 1 1 1 0 1 0 0 0 0 0 1 0 0 0 1 1 1 0 1 0 1 1 0 0 1 0 0 1 1 0 1 1\n",
            " 0 0 0 0 1 0 1 1 0 0 1 0 0 1 1 1 1 0 1 1 0 1 1 0 1 1 1 0 1 1 1 0 0 1 1 1 1\n",
            " 1 1 1 1 1 0 0 1 0 0 0 0 1 1 0 0 1 0 1 1 0 0 0 1 0 1 1 0 0 1 0 1 0 0 1 1 1\n",
            " 1 0 1 1 1 1 1 0 1 1 1 1 0 0 0 0 0 0 0 0 1 0 1 1 0 1 1 0 1 1 1 0 1 1 0 0 0\n",
            " 1 0 1 0 1 1 0 1 1 0 0 0 1 0 1 0 1 0 1 0 0 1 0 1 1 1 0 0 1 1 0 1 1 0 0 0 1\n",
            " 1 1 1 1 1 0 0 0 1 1 1 0 1 0 0 1 1 0 1 0 0 1 1 1 0 1 0 1 0 0 0 0 1 0 0 0 0\n",
            " 1 0 0 1 1 1 0 0 0 0 1 0 1 1 1 0 1 1 0 0 1 1 0 1 0 1 0 1 1 1 1 1 0 0 0 0 0\n",
            " 1 0 0 0 0 1 1 1 1 0 1 0 1 0 1 0 1 1 1 1 0 1 1 1 0 0 0 0 1 0 1 1 1 0 1 0 0\n",
            " 0 0 1 0 1 0 1 0 0 1 0 1 0 0 1 1 1 0 0 1 1 1 1 0 1 0 1 0 1 0 0 0 0 0 0 0 0\n",
            " 0 0 0 0 1 0 1 1 1 0 1 0 1 1 0 0 0 0 1 1 1 0 1 1 0 1 1 1 1 1 0 1 0 1 1 1 0\n",
            " 0 0 1 0 1 1 0 0 1 0 1 0 1 1 1 1 1 1 1 0 1 1 0 0 0 1 1 0 0 0 1 0 0 1 0 1 1\n",
            " 0 0 1 0 1 0 0 1 0 1 0 1 0 1 0 0 0 1 0 0 0 1 1 1 1 1 1 0 0 0 1 1 1 0 0 0 1\n",
            " 1 0 1 1 0 1 1 0 0 0 0 0 0 1 0 0 0 0 0 1 0 1 0 0 1 1 1 1 0 0 1 1 1 0 1 1 1\n",
            " 1 0 1 1 0 1 0 1 0 1 0 1 0 1 0 1 0 0 0 1 1 0 0 1 1 0 0 0 0 0 1 1 1 0 1 1 0\n",
            " 0]\n"
          ]
        }
      ]
    },
    {
      "cell_type": "code",
      "source": [
        "#3) Calcular el producto escalar (producto punto) entre las parejas de listas vectoriales de 2a, 2b y 2c. \n",
        "#Reportar los resultados en cada caso. ¿Observa alguna tendencia en los resultados? ¿Puede usted explicarla?\n",
        "import numpy as np\n",
        "\n",
        "print(np.dot(list2a, list2a2))\n",
        "print(np.dot(list2b, list2b2))\n",
        "print(np.dot(list2c, list2c2))"
      ],
      "metadata": {
        "colab": {
          "base_uri": "https://localhost:8080/"
        },
        "id": "TAK8YNnjqdmm",
        "outputId": "34189170-a7d6-4499-d408-e7409613aba1"
      },
      "execution_count": 47,
      "outputs": [
        {
          "output_type": "stream",
          "name": "stdout",
          "text": [
            "0\n",
            "26\n",
            "242\n"
          ]
        }
      ]
    }
  ]
}