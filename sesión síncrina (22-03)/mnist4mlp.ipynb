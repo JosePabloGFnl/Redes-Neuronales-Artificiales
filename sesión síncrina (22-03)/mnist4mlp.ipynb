{
  "nbformat": 4,
  "nbformat_minor": 0,
  "metadata": {
    "colab": {
      "name": "mnist4mlp.ipynb",
      "provenance": [],
      "authorship_tag": "ABX9TyOys4O26R/ack9nBDHz3oq2",
      "include_colab_link": true
    },
    "kernelspec": {
      "name": "python3",
      "display_name": "Python 3"
    },
    "language_info": {
      "name": "python"
    }
  },
  "cells": [
    {
      "cell_type": "markdown",
      "metadata": {
        "id": "view-in-github",
        "colab_type": "text"
      },
      "source": [
        "<a href=\"https://colab.research.google.com/github/JosePabloGFnl/Redes-Neuronales-Artificiales/blob/main/sesi%C3%B3n%20s%C3%ADncrina%20(22-03)/mnist4mlp.ipynb\" target=\"_parent\"><img src=\"https://colab.research.google.com/assets/colab-badge.svg\" alt=\"Open In Colab\"/></a>"
      ]
    },
    {
      "cell_type": "code",
      "execution_count": 1,
      "metadata": {
        "colab": {
          "base_uri": "https://localhost:8080/",
          "height": 389
        },
        "id": "gF23TmmPfFzg",
        "outputId": "c617ac18-f8c1-4141-ec71-200c4a7c3f70"
      },
      "outputs": [
        {
          "output_type": "stream",
          "name": "stdout",
          "text": [
            "La regresion logistica predice un:\n",
            "[8.]\n",
            "La red neuronal predice un:\n"
          ]
        },
        {
          "output_type": "stream",
          "name": "stderr",
          "text": [
            "/usr/local/lib/python3.7/dist-packages/sklearn/base.py:338: UserWarning: Trying to unpickle estimator LogisticRegression from version 0.22.1 when using version 1.0.2. This might lead to breaking code or invalid results. Use at your own risk. For more info please refer to:\n",
            "https://scikit-learn.org/stable/modules/model_persistence.html#security-maintainability-limitations\n",
            "  UserWarning,\n"
          ]
        },
        {
          "output_type": "display_data",
          "data": {
            "text/plain": [
              "<Figure size 432x288 with 1 Axes>"
            ],
            "image/png": "[encoded data removed]"
          },
          "metadata": {
            "needs_background": "light"
          }
        }
      ],
      "source": [
        "#Este programa prueba conjuntamente (para fines comparativos) una red neuronal de 3 capas \n",
        "#y un regresor logistico pre-entrenados para identificacion de digitos MNIST. \n",
        "#Se cargan imagenes al azar de MNIST_TEST, se despliegan visualmente y el regresor logistico trata de identificar la imagen\n",
        "from sklearn import datasets\n",
        "from sklearn.model_selection import train_test_split\n",
        "from sklearn.preprocessing import LabelBinarizer\n",
        "from sklearn.neural_network import MLPClassifier\n",
        "from sklearn.metrics import accuracy_score\n",
        "from sklearn.linear_model import LogisticRegression\n",
        "import numpy as np\n",
        "import time\n",
        "import pickle\n",
        "import matplotlib.pyplot as plt\n",
        "\n",
        "\n",
        "\n",
        "        \n",
        "data = np.loadtxt('mnist_test.csv', delimiter=',') \n",
        "ncol = data.shape[1]\n",
        "# definiendo entradas y salidas\n",
        "X_test = data[:,1:ncol]\n",
        "y_test = data[:,0]\n",
        "\n",
        "# se genera una matriz de 28x28 para guardar imagen en escala de grises\n",
        "select_image = np.random.random([28, 28])\n",
        "\n",
        "# se escoge al azar un indice de imagen de prueba\n",
        "ex = np.random.randint(0, 10000)\n",
        "\n",
        "# se carga el regresor logistico entrenado\n",
        "loaded_model1 = pickle.load(open('finalized_model.sav', 'rb'))\n",
        "\n",
        "# se carga la red neuronal entrenada\n",
        "#loaded_model2 = pickle.load(open('finalized_modelMLP.sav', 'rb'))\n",
        "\n",
        "# el regresor logistico trata de identificar la imagen\n",
        "xtest = X_test[ex,].reshape(1, -1)\n",
        "predicted = loaded_model1.predict(xtest)\n",
        "print(\"La regresion logistica predice un:\")\t\n",
        "print(predicted)\n",
        "\n",
        "# la red neuronal trata de identificar la imagen\n",
        "xtest = X_test[ex,].reshape(1, -1)\n",
        "#predicted = loaded_model2.predict(xtest)\n",
        "print(\"La red neuronal predice un:\")\t\n",
        "#print(predicted)\n",
        "\n",
        "# se traduce el vector seleccionado a imagen y se despliega visualmente\n",
        "select_image1 = 1 - X_test[ex,] / 255\n",
        "k = 0\n",
        "for i in range(0,28):\n",
        "    for j in range(0,28):\n",
        "        select_image[i,j] = select_image1[k] \n",
        "        k = k + 1      \n",
        "   \n",
        "plt.imshow(select_image, cmap='gray', interpolation='nearest')\n",
        "plt.show()\n",
        "\n"
      ]
    }
  ]
}