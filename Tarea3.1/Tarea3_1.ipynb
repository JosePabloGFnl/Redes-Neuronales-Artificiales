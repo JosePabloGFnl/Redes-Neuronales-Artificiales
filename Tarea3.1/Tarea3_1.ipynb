{
  "nbformat": 4,
  "nbformat_minor": 0,
  "metadata": {
    "colab": {
      "name": "Tarea3.1.ipynb",
      "provenance": [],
      "collapsed_sections": [],
      "authorship_tag": "ABX9TyNdUiD+LODAEwN8CXTVomPG",
      "include_colab_link": true
    },
    "kernelspec": {
      "name": "python3",
      "display_name": "Python 3"
    },
    "language_info": {
      "name": "python"
    }
  },
  "cells": [
    {
      "cell_type": "markdown",
      "metadata": {
        "id": "view-in-github",
        "colab_type": "text"
      },
      "source": [
        "<a href=\"https://colab.research.google.com/github/JosePabloGFnl/Redes-Neuronales-Artificiales/blob/main/Tarea3.1/Tarea3_1.ipynb\" target=\"_parent\"><img src=\"https://colab.research.google.com/assets/colab-badge.svg\" alt=\"Open In Colab\"/></a>"
      ]
    },
    {
      "cell_type": "code",
      "execution_count": null,
      "metadata": {
        "id": "7GqXvX7lk7_K",
        "colab": {
          "base_uri": "https://localhost:8080/"
        },
        "outputId": "957eeea0-d162-4902-dc10-15a04ff93a1a"
      },
      "outputs": [
        {
          "output_type": "stream",
          "name": "stdout",
          "text": [
            "Error cuadrado medio sobre el conjunto de prueba: 84.38617470724463\n",
            "Raiz cuadrada del error: 9.186194789315358\n",
            "Desviacion estandar de las salidas: 9.14311905566541\n"
          ]
        }
      ],
      "source": [
        "#El alumno deberá estudiar los ejercicios dados en los recursos anexos y atender la sesión de trabajo en equipo. \n",
        "#Luego deberá subir a Nexus la tarea individual asignada, que será un mini-proyecto de desarrollo de aprendizaje máquina en Python. \n",
        "#Descripción del mini-proyecto: en la carpeta \"ConcursoCorregido\" se encuentran 2 conjuntos de datos de prueba (entradas y salidas) para los problemas de \n",
        "#identificación de sonar y predicción de precios de propiedades. Construir un modelo de Red Neuronal Artificial que logre el menor error de predicción \n",
        "#para ambos conjuntos de datos.\n",
        "\n",
        "# Este programa entrena una regresion logistica para MNIST y guarda el modelo entrenado para posterior uso.\n",
        "# importando sklearn y numpy\n",
        "from sklearn.neural_network import MLPRegressor\n",
        "from sklearn.metrics import mean_squared_error\n",
        "from sklearn.model_selection import train_test_split\n",
        "import numpy as np\n",
        "import pickle\n",
        "\n",
        "if __name__ == '__main__':\n",
        "\t# leyendo el csv sacando los datos de X y Y\n",
        "\tx = np.loadtxt('xbostonTest.csv', delimiter=',', usecols=range(13))\n",
        "\ty = np.loadtxt('ybostonTest.csv', delimiter=',', usecols=(0, ))\n",
        "        \n",
        "        # se construyen conjuntos de entrenamiento y prueba al azar\n",
        "\tx_train, x_test, y_train, y_test = train_test_split(x, y, test_size=0.20, random_state=5)\n",
        "\n",
        "\t# se usa el conjunto de prueba para entrenar el clasificador\n",
        "\tclf = MLPRegressor(solver='lbfgs', tol=1e-100, hidden_layer_sizes=(5,), random_state=1, max_iter=500)\n",
        "\tclf.fit(x_train, y_train)\n",
        "\n",
        "\t# se usa el modelo entrenado para predecir las salidas sobre el conjunto de prueba\n",
        "\tpredicted = clf.predict(x_test)\n",
        "\n",
        "\t# se calcula el error sobre el conjunto de prueba\n",
        "\terror = mean_squared_error(y_test, predicted)\n",
        "print ('Error cuadrado medio sobre el conjunto de prueba:', error)\n",
        "print ('Raiz cuadrada del error:', np.sqrt(error))\n",
        "print ('Desviacion estandar de las salidas:', np.sqrt(np.var(y_train)))\n",
        "\n",
        "        # se guarda el modelo entrenado para uso posterior\n",
        "filename = 'trained_modelMLP.sav'\n",
        "pickle.dump(clf, open(filename, 'wb'))"
      ]
    },
    {
      "cell_type": "code",
      "source": [
        "from sklearn.neural_network import MLPRegressor\n",
        "from sklearn.metrics import mean_squared_error\n",
        "from sklearn.model_selection import train_test_split\n",
        "import numpy as np\n",
        "import pickle\n",
        "\n",
        "if __name__ == '__main__':\n",
        "\t# leyendo el csv sacando los datos de X y Y\n",
        "\tx = np.loadtxt('xsonarTest.csv', delimiter=',', usecols=range(13))\n",
        "\ty = np.loadtxt('ysonarTest.csv', delimiter=',', usecols=(0, ))\n",
        "        \n",
        "        # se construyen conjuntos de entrenamiento y prueba al azar\n",
        "\tx_train, x_test, y_train, y_test = train_test_split(x, y, test_size=0.20, random_state=5)\n",
        "\n",
        "\t# se usa el conjunto de prueba para entrenar el clasificador\n",
        "\tclf = MLPRegressor(solver='lbfgs', tol=1e-100, hidden_layer_sizes=(5,), random_state=1, max_iter=500)\n",
        "\tclf.fit(x_train, y_train)\n",
        "\n",
        "\t# se usa el modelo entrenado para predecir las salidas sobre el conjunto de prueba\n",
        "\tpredicted = clf.predict(x_test)\n",
        "\n",
        "\t# se calcula el error sobre el conjunto de prueba\n",
        "\terror = mean_squared_error(y_test, predicted)\n",
        "print ('Error cuadrado medio sobre el conjunto de prueba:', error)\n",
        "print ('Raiz cuadrada del error:', np.sqrt(error))\n",
        "print ('Desviacion estandar de las salidas:', np.sqrt(np.var(y_train)))\n",
        "\n",
        "        # se guarda el modelo entrenado para uso posterior\n",
        "filename = 'trained_modelSONAR.sav'\n",
        "pickle.dump(clf, open(filename, 'wb'))"
      ],
      "metadata": {
        "colab": {
          "base_uri": "https://localhost:8080/"
        },
        "id": "DYmomqgEUCgs",
        "outputId": "edf019d1-c0c0-43d2-a995-9dd3e53a630a"
      },
      "execution_count": null,
      "outputs": [
        {
          "output_type": "stream",
          "name": "stdout",
          "text": [
            "Error cuadrado medio sobre el conjunto de prueba: 0.37850826528071063\n",
            "Raiz cuadrada del error: 0.6152302538730606\n",
            "Desviacion estandar de las salidas: 0.49967328562235475\n"
          ]
        }
      ]
    }
  ]
}