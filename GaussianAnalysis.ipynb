{
  "nbformat": 4,
  "nbformat_minor": 0,
  "metadata": {
    "colab": {
      "name": "GaussianAnalysis.ipynb",
      "provenance": [],
      "authorship_tag": "ABX9TyOr5YrJ6f3kfTGhOdjUIyLz",
      "include_colab_link": true
    },
    "kernelspec": {
      "name": "python3",
      "display_name": "Python 3"
    },
    "language_info": {
      "name": "python"
    }
  },
  "cells": [
    {
      "cell_type": "markdown",
      "metadata": {
        "id": "view-in-github",
        "colab_type": "text"
      },
      "source": [
        "<a href=\"https://colab.research.google.com/github/JosePabloGFnl/Redes-Neuronales-Artificiales/blob/main/GaussianAnalysis.ipynb\" target=\"_parent\"><img src=\"https://colab.research.google.com/assets/colab-badge.svg\" alt=\"Open In Colab\"/></a>"
      ]
    },
    {
      "cell_type": "code",
      "execution_count": null,
      "metadata": {
        "id": "OYbw6-1V7XM1"
      },
      "outputs": [],
      "source": [
        "#este programa carga un conjunto de nuestros datos en formato csv, las estandariza, les aplica una prueba\n",
        "#Kolmogorov-Smirnov y despliega visualmente los histogramas correspondientes\n",
        "\n",
        "import numpy as np\n",
        "import matplotlib.pyplot as plt\n",
        "from scipy import stats\n",
        "\n",
        "filename=np.array(['Sample_33_data.txt', 'Sample_34_data.txt', 'Sample_35_data.txt', 'Sample_33_data_down.txt', 'Sample_34_data_down.txt', 'Sample_35_data_down.txt'])\n",
        "\n",
        "ydata =np.empty([1025, 6])\n",
        "i = 1\n",
        "for f in filename:\n",
        "  x, y = np.loadtxt(fname = f, usecols=(0,1), unpack=True)\n",
        "  yn = np.mean(y)\n",
        "  ys = np.std(y) #estandarización\n",
        "  ks = stats.kstest(y, 'norm') #k-s test \n",
        "  print(ks)\n",
        "\n",
        "  ax = plt.subplot(2, 3, i)\n",
        "  i = i + 1\n",
        "  ax.hist(y, bins = 100)\n",
        "plt.show()\n",
        "\n",
        "#los primeros tres son gauseanos, los últimos no"
      ]
    }
  ]
}