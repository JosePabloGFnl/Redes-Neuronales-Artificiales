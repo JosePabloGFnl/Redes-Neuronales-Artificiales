{
  "nbformat": 4,
  "nbformat_minor": 0,
  "metadata": {
    "colab": {
      "name": "2.2 - Entornos de desarrollo en Python.ipynb",
      "provenance": [],
      "authorship_tag": "ABX9TyNA+Dd2bgQbc7K4Mspo7F37",
      "include_colab_link": true
    },
    "kernelspec": {
      "name": "python3",
      "display_name": "Python 3"
    },
    "language_info": {
      "name": "python"
    }
  },
  "cells": [
    {
      "cell_type": "markdown",
      "metadata": {
        "id": "view-in-github",
        "colab_type": "text"
      },
      "source": [
        "<a href=\"https://colab.research.google.com/github/JosePabloGFnl/Redes-Neuronales-Artificiales/blob/main/2.2%20-%20Entornos%20de%20desarrollo%20en%20Python/2_2_Entornos_de_desarrollo_en_Python.ipynb\" target=\"_parent\"><img src=\"https://colab.research.google.com/assets/colab-badge.svg\" alt=\"Open In Colab\"/></a>"
      ]
    },
    {
      "cell_type": "code",
      "execution_count": null,
      "metadata": {
        "colab": {
          "base_uri": "https://localhost:8080/"
        },
        "id": "GFfyoiHMXaT1",
        "outputId": "d1b8111f-6d7f-41c6-d86f-a51241b049eb"
      },
      "outputs": [
        {
          "output_type": "stream",
          "name": "stdout",
          "text": [
            "Anote la cantidad de números primos que quiera impreso: 10\n",
            "1\n",
            "2\n",
            "3\n",
            "5\n",
            "7\n"
          ]
        }
      ],
      "source": [
        "#1) Realizar un programa en Python que reporte en consola los primeros N\n",
        "#números primos. Escribirlo como una función que recibe como argumento el número deseado de primos.\n",
        "len = int( input(\"Anote la cantidad de números primos que quiera impreso: \") )\n",
        "\n",
        "def primos(len):\n",
        "  cont=0;\n",
        "  for n in range(1, len):\n",
        "    if(len%n==0):\n",
        "      cont+=1 #esto verifica que no se pueda dividir más de una vez\n",
        "      if cont>1:\n",
        "        return False\n",
        "  return True\n",
        "\n",
        "array=[]\n",
        "\n",
        "for i in range(1, len):\n",
        "  array.append(i)\n",
        "\n",
        "for i in array:\n",
        "\tif primos(i):\n",
        "\t\tprint (str(i))\n"
      ]
    },
    {
      "cell_type": "code",
      "source": [
        "#2) El mismo programa pero tomando de un .txt el número deseado N y escribiendo el resultado en un archivo .txt\n",
        "fileName = open('numerodeseado.txt','r')\n",
        "\n",
        "with open('numerodeseado.txt','r') as file:\n",
        "    main_array = []\n",
        "\n",
        "    len = file.readlines()\n",
        "\n",
        "len = [int(item) for item in len]\n",
        "len=int(len[0])\n",
        "\n",
        "def primos(len):\n",
        "  cont=0;\n",
        "  for n in range(1, len):\n",
        "    if(len%n==0):\n",
        "      cont+=1 #esto verifica que no se pueda dividir más de una vez\n",
        "      if cont>1:\n",
        "        return False\n",
        "  return True\n",
        "\n",
        "array=[]\n",
        "\n",
        "for i in range(1, len):\n",
        "  array.append(i)\n",
        "\n",
        "file = open(\"resultado.txt\",\"w\")\n",
        "for i in array:\n",
        "  if primos(i):\n",
        "    file.write(str(i) + \"\\n\")\n",
        "   \n",
        "file.close()\n"
      ],
      "metadata": {
        "id": "Cex8Qvoyf9fM"
      },
      "execution_count": 8,
      "outputs": []
    },
    {
      "cell_type": "code",
      "source": [
        "#3) Escoger un archivo .csv  de datos x contra y. \n",
        "#Programar un ajuste de mínimos cuadrados en Python a partir de un archivo .csv.\n",
        "\n",
        "import numpy as np\n",
        "import matplotlib.pyplot as plt\n",
        "import pandas as pd\n",
        "from sklearn.linear_model import LinearRegression\n",
        "import io\n",
        "\n",
        "data =pd.read_csv('data.csv', header=None)\n",
        "\n",
        "#el set de datos se guarda en pandas\n",
        "X = data.iloc[:, 0].values.reshape(-1, 1) #los valores se convierten en un arreglo de numpy\n",
        "Y = data.iloc[:, 0].values.reshape(-1, 1) #-1 significa calcular la dimensión de filas\n",
        "\n",
        "linear_regressor = LinearRegression()\n",
        "linear_regressor.fit(X, Y) #un método que requiere saber quiénes son las extradas y salidas para hacer un aprendizaje supervisado, requiere a fuerzas una variable de salida Y\n",
        "Y_pred = linear_regressor.predict(X)\n",
        "\n",
        "#4) Visualizar los datos y su recta de ajuste de mínimos cuadrados\n",
        "plt.scatter(X, Y)\n",
        "plt.plot(X, Y_pred, color='red') #y_pred es la línea prognosticada por el modelo\n",
        "plt.show()"
      ],
      "metadata": {
        "colab": {
          "base_uri": "https://localhost:8080/",
          "height": 265
        },
        "id": "rNfF4ftZn_XT",
        "outputId": "1304c5b2-6057-46a4-fa76-0e57e14a5d3b"
      },
      "execution_count": null,
      "outputs": [
        {
          "output_type": "display_data",
          "data": {
            "image/png": "[encoded data removed]",
            "text/plain": [
              "<Figure size 432x288 with 1 Axes>"
            ]
          },
          "metadata": {
            "needs_background": "light"
          }
        }
      ]
    }
  ]
}